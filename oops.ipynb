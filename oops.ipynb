{
 "cells": [
  {
   "cell_type": "code",
   "execution_count": 1,
   "metadata": {},
   "outputs": [
    {
     "name": "stdout",
     "output_type": "stream",
     "text": [
      "40\n",
      "76\n",
      "60\n"
     ]
    }
   ],
   "source": [
    "class cuboid:\n",
    "    def __init__(self,l,b,h):\n",
    "        self.l=l\n",
    "        self.b=b\n",
    "        self.h=h\n",
    "    def vol(self):\n",
    "        return self.l*self.b*self.h\n",
    "    def tsa(self):\n",
    "        return 2*(self.l*self.b+self.b*self.h+self.h*self.l)\n",
    "    def lsa(s):\n",
    "        return 2*s.h*(s.l+s.b)\n",
    "cu1=cuboid(2,4,5)\n",
    "print(cu1.vol())\n",
    "print(cu1.tsa())\n",
    "print(cuboid.lsa(cu1))"
   ]
  },
  {
   "cell_type": "code",
   "execution_count": 2,
   "metadata": {},
   "outputs": [
    {
     "name": "stdout",
     "output_type": "stream",
     "text": [
      "78.5\n",
      "31.400000000000002\n"
     ]
    }
   ],
   "source": [
    "class CIRCLE:\n",
    "    pi=3.14\n",
    "    def __init__(self,r) :\n",
    "        self.r=r\n",
    "    def area(self):\n",
    "        return CIRCLE.pi*self.r**2\n",
    "    def circumfrence(self):\n",
    "        return 2*CIRCLE.pi*self.r\n",
    "c1=CIRCLE(5)\n",
    "print(c1.area())\n",
    "print(c1.circumfrence())\n"
   ]
  },
  {
   "cell_type": "code",
   "execution_count": 8,
   "metadata": {},
   "outputs": [
    {
     "name": "stdout",
     "output_type": "stream",
     "text": [
      "student details\n",
      "name:babavali\n",
      "age:22\n",
      "mno9505898468\n",
      "student details\n",
      "name:adil\n",
      "age:21\n",
      "mno87658544865\n"
     ]
    }
   ],
   "source": [
    "class student:\n",
    "    institute= \"pyspiders\"\n",
    "    location = 'basavangudi'\n",
    "    def __init__(self,name,age,mno):\n",
    "        self.name = name\n",
    "        self.age = age\n",
    "        self.mno = mno\n",
    "    def details(self):\n",
    "        print(\"student details\")\n",
    "        print(f\"name:{self.name}\")\n",
    "        print(f\"age:{self.age}\")\n",
    "        print(f\"mno{self.mno}\")\n",
    "s1 = student(\"babavali\",22,9505898468,)\n",
    "s2 = student(\"adil\",21,87658544865)\n",
    "s1.details()\n",
    "s2.details()\n",
    "        "
   ]
  },
  {
   "cell_type": "code",
   "execution_count": null,
   "metadata": {},
   "outputs": [],
   "source": []
  }
 ],
 "metadata": {
  "kernelspec": {
   "display_name": "Python 3",
   "language": "python",
   "name": "python3"
  },
  "language_info": {
   "codemirror_mode": {
    "name": "ipython",
    "version": 3
   },
   "file_extension": ".py",
   "mimetype": "text/x-python",
   "name": "python",
   "nbconvert_exporter": "python",
   "pygments_lexer": "ipython3",
   "version": "3.12.4"
  }
 },
 "nbformat": 4,
 "nbformat_minor": 2
}
