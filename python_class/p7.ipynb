{
 "cells": [
  {
   "cell_type": "code",
   "execution_count": 4,
   "metadata": {},
   "outputs": [],
   "source": [
    "import numpy as np"
   ]
  },
  {
   "cell_type": "markdown",
   "metadata": {},
   "source": [
    "create a 1-D array with 16 elements of int type"
   ]
  },
  {
   "cell_type": "code",
   "execution_count": 9,
   "metadata": {},
   "outputs": [
    {
     "name": "stdout",
     "output_type": "stream",
     "text": [
      "[ 0  1  2  3  4  5  6  7  8  9 10 11 12 13 14 15]\n"
     ]
    }
   ],
   "source": [
    "arr = np.arange(16)\n",
    "print(arr)"
   ]
  },
  {
   "cell_type": "markdown",
   "metadata": {},
   "source": [
    " to reshape arr to 3-D"
   ]
  },
  {
   "cell_type": "code",
   "execution_count": 37,
   "metadata": {},
   "outputs": [
    {
     "name": "stdout",
     "output_type": "stream",
     "text": [
      "[[[ 0  1]\n",
      "  [ 2  3]\n",
      "  [ 4  5]\n",
      "  [ 6  7]]\n",
      "\n",
      " [[ 8  9]\n",
      "  [10 11]\n",
      "  [12 13]\n",
      "  [14 15]]]\n",
      "16\n",
      "[[[ 0.  1.]\n",
      "  [ 2.  3.]\n",
      "  [ 4.  5.]\n",
      "  [ 6.  7.]]\n",
      "\n",
      " [[ 8.  9.]\n",
      "  [10. 11.]\n",
      "  [12. 13.]\n",
      "  [14. 15.]]]\n",
      "[[1 0]\n",
      " [0 1]]\n",
      "[ 0  2  4  6  8 10 12 14 16 18]\n",
      "[[ 0  2  4  6  8]\n",
      " [10 12 14 16 18]]\n",
      "[[ 1  3  5  7  9]\n",
      " [10 12 14 16 18]]\n"
     ]
    }
   ],
   "source": [
    "# to reshape arr to 3-D\n",
    "arr = np.arange(16)\n",
    "a = np.reshape(arr,(2,4,2))\n",
    "print(a)\n",
    "#size of the array\n",
    "print(a.size)\n",
    "# convert the array elements into float type\n",
    "b= np.array(a,dtype=float)\n",
    "print(b)\n",
    "#to create identity 2-D\n",
    "c= np.eye(2,dtype= int)\n",
    "print(c)\n",
    "#create a 2-D which consists of  first 10 even no :\n",
    "d = np.arange(0,20,2)\n",
    "print(d)\n",
    "d1=np.reshape(d,(2,5))\n",
    "print(d1)\n",
    "d1[0]=[1,3,5,7,9]\n",
    "print(d1)\n",
    "\n",
    "\n",
    "\n",
    "e = np.array([[2,3,6],[7,8,9]])\n"
   ]
  },
  {
   "cell_type": "code",
   "execution_count": 53,
   "metadata": {},
   "outputs": [
    {
     "name": "stdout",
     "output_type": "stream",
     "text": [
      "[[2 3 6]\n",
      " [7 8 9]]\n",
      "[[3 6]\n",
      " [8 9]]\n",
      "[ 2  5 11 18 26 35]\n",
      "[ 9 11 15]\n",
      "[7 8 9]\n",
      "[6 9]\n"
     ]
    }
   ],
   "source": [
    "e = np.array([[2,3,6],[7,8,9]])\n",
    "print(e)\n",
    "print(e[:,1:])\n",
    "f= np.cumsum(e)\n",
    "print(f)\n",
    "print(np.sum(e,axis=0))\n",
    "print(np.max(e,axis=0))\n",
    "print(np.max(e,axis=1))"
   ]
  },
  {
   "cell_type": "code",
   "execution_count": null,
   "metadata": {},
   "outputs": [],
   "source": []
  },
  {
   "cell_type": "code",
   "execution_count": 1,
   "metadata": {},
   "outputs": [],
   "source": [
    "import pandas"
   ]
  }
 ],
 "metadata": {
  "kernelspec": {
   "display_name": "Python 3",
   "language": "python",
   "name": "python3"
  },
  "language_info": {
   "codemirror_mode": {
    "name": "ipython",
    "version": 3
   },
   "file_extension": ".py",
   "mimetype": "text/x-python",
   "name": "python",
   "nbconvert_exporter": "python",
   "pygments_lexer": "ipython3",
   "version": "3.12.4"
  }
 },
 "nbformat": 4,
 "nbformat_minor": 2
}
