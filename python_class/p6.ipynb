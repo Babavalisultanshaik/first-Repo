{
 "cells": [
  {
   "cell_type": "code",
   "execution_count": 4,
   "metadata": {},
   "outputs": [
    {
     "name": "stdout",
     "output_type": "stream",
     "text": [
      "            * \n",
      "          * * \n",
      "        * * \n",
      "      * * \n",
      "    * * \n",
      "  * * \n",
      "* * * * * * * * * * * * * \n"
     ]
    }
   ],
   "source": [
    "n= int(input(\"n: \"))\n",
    "for i in range(n):\n",
    "    for j in range(n-1-i):\n",
    "        print(\" \",end=\" \")\n",
    "    for k in range(2*i+1):\n",
    "        if i == n-1 or i == 0 or k == 0 or k == 2 * i:\n",
    "            print('*', end = ' ')\n",
    "    print()"
   ]
  },
  {
   "cell_type": "code",
   "execution_count": 6,
   "metadata": {},
   "outputs": [
    {
     "name": "stdout",
     "output_type": "stream",
     "text": [
      "*         \n",
      "* *       \n",
      "* * *     \n",
      "* *       \n",
      "*         \n"
     ]
    }
   ],
   "source": [
    "n= int(input(\"n: \"))\n",
    "for i in range(1,n+1):\n",
    "    for j in range(1,n+1):\n",
    "        if j <= i and j <= n+1-i:\n",
    "            print(\"*\",end=\" \")\n",
    "        else:\n",
    "            print(\" \",end=\" \")\n",
    "    print( )\n",
    "    \n",
    "    \n",
    "    "
   ]
  },
  {
   "cell_type": "code",
   "execution_count": 7,
   "metadata": {},
   "outputs": [
    {
     "name": "stdout",
     "output_type": "stream",
     "text": [
      "        * \n",
      "      * * \n",
      "    * * * \n",
      "      * * \n",
      "        * \n"
     ]
    }
   ],
   "source": [
    "n= int(input(\"n: \"))\n",
    "for i in range(1,n+1):\n",
    "    for j in range(1,n+1):\n",
    "        if j >= i and j >= n+1-i:\n",
    "            print(\"*\",end=\" \")\n",
    "        else:\n",
    "            print(\" \",end=\" \")\n",
    "    print( )\n",
    "    \n",
    "    \n",
    "    "
   ]
  },
  {
   "cell_type": "code",
   "execution_count": 16,
   "metadata": {},
   "outputs": [
    {
     "name": "stdout",
     "output_type": "stream",
     "text": [
      "1\n"
     ]
    }
   ],
   "source": [
    "print(1//1)"
   ]
  },
  {
   "cell_type": "code",
   "execution_count": 5,
   "metadata": {},
   "outputs": [
    {
     "name": "stdout",
     "output_type": "stream",
     "text": [
      "*         \n",
      "* *       \n",
      "* * *     \n",
      "* *       \n",
      "*         \n"
     ]
    }
   ],
   "source": [
    "n = int(input(\"Enter the number of rows :\"))\n",
    "for i in range(1,n + 1):\n",
    "  for j in range(1, n + 1):\n",
    "    if j <= i and j <= n + 1 - i:\n",
    "      print(\"*\", end=\" \")\n",
    "    else:\n",
    "      print(\" \", end=\" \")\n",
    "  print()"
   ]
  },
  {
   "cell_type": "code",
   "execution_count": 8,
   "metadata": {},
   "outputs": [
    {
     "name": "stdout",
     "output_type": "stream",
     "text": [
      "[3, 4, 5, 6, 7, 8, 5]\n",
      "5 8 7 6 5 4 3 "
     ]
    }
   ],
   "source": [
    "l1 = [3,4,5,6,7,8]\n",
    "val = [int(input(\"Enter the value :\"))]\n",
    "l1 = l1 + val\n",
    "print(l1)\n",
    "\n",
    "for i in range(len(l1)-1,-1,-1):\n",
    "    print(l1[i],end=\" \")"
   ]
  },
  {
   "cell_type": "code",
   "execution_count": 13,
   "metadata": {},
   "outputs": [
    {
     "name": "stdout",
     "output_type": "stream",
     "text": [
      "        1 \n",
      "      1 1 \n",
      "    1 2 1 \n",
      "  1 3 3 1 \n",
      "1 4 6 4 1 \n"
     ]
    }
   ],
   "source": [
    "n = int(input(\"n: \"))\n",
    "for i in range(n):\n",
    "    for j in range(n-i-1):\n",
    "        print(\" \",end=\" \")\n",
    "    val = 1\n",
    "    for k in range(i+1):\n",
    "        print(val, end = ' ')\n",
    "        val = val*(i - k) // (k + 1)\n",
    "    print( )\n",
    "\n"
   ]
  },
  {
   "cell_type": "code",
   "execution_count": 4,
   "metadata": {},
   "outputs": [
    {
     "name": "stdout",
     "output_type": "stream",
     "text": [
      "    z \n",
      "  y z \n",
      "x y z \n"
     ]
    }
   ],
   "source": [
    "n = int(input(\"n: \"))\n",
    "#val= ord(\"z\")\n",
    "for i in range (n):\n",
    "    val= ord(\"z\")-i\n",
    "    for j in range (n):\n",
    "        if (i+j)>=n-1:\n",
    "            print(chr(val),end=\" \")\n",
    "            val+=1\n",
    "            if val<ord(\"A\"):\n",
    "                val=ord(\"z\")\n",
    "        else:\n",
    "            print(\" \",end=\" \")\n",
    "    print()\n",
    "    #val=ord(\"z\")\n",
    "    #val-=1\n",
    "    \n"
   ]
  },
  {
   "cell_type": "code",
   "execution_count": 3,
   "metadata": {},
   "outputs": [
    {
     "name": "stdout",
     "output_type": "stream",
     "text": [
      "        * \n",
      "      * * \n",
      "    * * * \n",
      "      * * \n",
      "        * \n"
     ]
    }
   ],
   "source": [
    "n= int(input(\"n: \"))\n",
    "for i in range(1,n+1):\n",
    "    for j in range(1,n+1):\n",
    "        if j >= i and j>= n+1-i:\n",
    "            print(\"*\",end=\" \")\n",
    "        else:\n",
    "            print(\" \",end=\" \")\n",
    "    print( )"
   ]
  },
  {
   "cell_type": "code",
   "execution_count": 31,
   "metadata": {},
   "outputs": [
    {
     "name": "stdout",
     "output_type": "stream",
     "text": [
      "string"
     ]
    }
   ],
   "source": [
    "l='string'\n",
    "for i in range(len(l)):\n",
    "    print (l[i],end = '')"
   ]
  },
  {
   "cell_type": "code",
   "execution_count": 2,
   "metadata": {},
   "outputs": [
    {
     "name": "stdout",
     "output_type": "stream",
     "text": [
      "15"
     ]
    }
   ],
   "source": [
    "n = int(input('n :'))\n",
    "sum = 0\n",
    "for i in range(1,n + 1):\n",
    "    sum += i\n",
    "print(sum, end = '')"
   ]
  },
  {
   "cell_type": "code",
   "execution_count": 3,
   "metadata": {},
   "outputs": [
    {
     "name": "stdout",
     "output_type": "stream",
     "text": [
      "55"
     ]
    }
   ],
   "source": [
    "n = int(input('n :'))\n",
    "sum = 0\n",
    "for i in range(1,n + 1):\n",
    "    sum += i**2\n",
    "print(sum, end = '')"
   ]
  },
  {
   "cell_type": "code",
   "execution_count": 7,
   "metadata": {},
   "outputs": [
    {
     "name": "stdout",
     "output_type": "stream",
     "text": [
      "1.0\n"
     ]
    }
   ],
   "source": [
    "n = int(input('n :'))\n",
    "c = 0\n",
    "while n != 0:\n",
    "    c = n // 10\n",
    "    n = n / 10\n",
    "c += 1\n",
    "print(c)"
   ]
  },
  {
   "cell_type": "code",
   "execution_count": 1,
   "metadata": {},
   "outputs": [
    {
     "ename": "SyntaxError",
     "evalue": "invalid syntax (1048225456.py, line 1)",
     "output_type": "error",
     "traceback": [
      "\u001b[1;36m  Cell \u001b[1;32mIn[1], line 1\u001b[1;36m\u001b[0m\n\u001b[1;33m    pip install pandas\u001b[0m\n\u001b[1;37m        ^\u001b[0m\n\u001b[1;31mSyntaxError\u001b[0m\u001b[1;31m:\u001b[0m invalid syntax\n"
     ]
    }
   ],
   "source": [
    "\n",
    "\n"
   ]
  },
  {
   "cell_type": "code",
   "execution_count": 19,
   "metadata": {},
   "outputs": [
    {
     "name": "stdout",
     "output_type": "stream",
     "text": [
      "job        deptno\n",
      "clerk      30        2\n",
      "salesman   20        2\n",
      "analyst    30        1\n",
      "           10        1\n",
      "clerk      10        1\n",
      "hr         20        1\n",
      "manager    20        1\n",
      "president  10        1\n",
      "Name: count, dtype: int64\n"
     ]
    }
   ],
   "source": [
    "import numpy as np\n",
    "import pandas as pd\n",
    "d={'empno':np.arange(101,111),\n",
    "    'ename':['smith','ward','allen','manupriya','anitha','james','nishika','king','ford','sharanya'],\n",
    "   'sal':[800,6000,3950,4250,3000,3999,4777,5555,8000,7590],\n",
    "   'comm':[300,np.nan,400,np.nan,100,0,np.nan,np.nan,np.nan,np.nan],\n",
    "   'job':['clerk','salesman','manager','analyst','president','hr','clerk','salesman','analyst','clerk'],\n",
    "   'hiredate':['3/jun/2000','3/jun/2001','3/jul/2000','3/jun/2000','6/jun/2000','6/jun/2000','5/dec/1999','3/jun/2000','3/jun/2000','3/jun/2000'],\n",
    "   'deptno':[10,20,20,30,10,20,30,20,10,30]}\n",
    "df=pd.DataFrame(d)\n",
    "print(df.value_counts(['job','deptno']))"
   ]
  },
  {
   "cell_type": "markdown",
   "metadata": {},
   "source": []
  }
 ],
 "metadata": {
  "kernelspec": {
   "display_name": "Python 3",
   "language": "python",
   "name": "python3"
  },
  "language_info": {
   "codemirror_mode": {
    "name": "ipython",
    "version": 3
   },
   "file_extension": ".py",
   "mimetype": "text/x-python",
   "name": "python",
   "nbconvert_exporter": "python",
   "pygments_lexer": "ipython3",
   "version": "3.12.4"
  }
 },
 "nbformat": 4,
 "nbformat_minor": 2
}
