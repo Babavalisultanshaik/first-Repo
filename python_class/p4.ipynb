{
 "cells": [
  {
   "cell_type": "code",
   "execution_count": null,
   "metadata": {},
   "outputs": [],
   "source": []
  },
  {
   "cell_type": "code",
   "execution_count": 5,
   "metadata": {},
   "outputs": [
    {
     "name": "stdout",
     "output_type": "stream",
     "text": [
      "Yes its armstrong\n"
     ]
    }
   ],
   "source": [
    "n= int(input(\"n:\"))\n",
    "s=0\n",
    "p = len(str(n))\n",
    "for i in str(n):\n",
    "    s+=int(i)**p\n",
    "if s==n:\n",
    "    print('Yes its armstrong')\n",
    "else:\n",
    "    print('NOt Arm')\n",
    "\n",
    "  \n",
    "\n"
   ]
  },
  {
   "cell_type": "code",
   "execution_count": 9,
   "metadata": {},
   "outputs": [
    {
     "name": "stdout",
     "output_type": "stream",
     "text": [
      "not am\n"
     ]
    }
   ],
   "source": [
    "n= int(input(\"n:\"))\n",
    "s=0\n",
    "p = len(str(n))\n",
    "m=n\n",
    "while n>0:\n",
    "    r=n%10\n",
    "    s+=r**p\n",
    "    n//=10\n",
    "if m==s:\n",
    "    print(\"am\")\n",
    "else:\n",
    "    print(\"not am\")    "
   ]
  },
  {
   "cell_type": "code",
   "execution_count": 15,
   "metadata": {},
   "outputs": [
    {
     "name": "stdout",
     "output_type": "stream",
     "text": [
      "Not\n"
     ]
    }
   ],
   "source": [
    "n= int(input(\"n:\"))\n",
    "s=0\n",
    "f=1\n",
    "for i in str(n):\n",
    "    a=int(i)\n",
    "    while a>0:\n",
    "        f*=a\n",
    "        a-=1\n",
    "    s+=f\n",
    "    f=1\n",
    "if n==s:\n",
    "    print('YEs Strong')\n",
    "else:\n",
    "    print('Not')"
   ]
  },
  {
   "cell_type": "code",
   "execution_count": 16,
   "metadata": {},
   "outputs": [
    {
     "name": "stdout",
     "output_type": "stream",
     "text": [
      "78.5\n",
      "31.400000000000002\n"
     ]
    }
   ],
   "source": [
    "class CIRCLE:\n",
    "    pi=3.14\n",
    "    def __init__(self,r) :\n",
    "        self.r=r\n",
    "    def area(self):\n",
    "        return CIRCLE.pi*self.r**2\n",
    "    def circumfrence(self):\n",
    "        return 2*CIRCLE.pi*self.r\n",
    "c1=CIRCLE(5)\n",
    "print(c1.area())\n",
    "print(c1.circumfrence())\n",
    "\n"
   ]
  },
  {
   "cell_type": "code",
   "execution_count": 29,
   "metadata": {},
   "outputs": [
    {
     "name": "stdout",
     "output_type": "stream",
     "text": [
      "40\n",
      "76\n",
      "60\n"
     ]
    }
   ],
   "source": [
    "class cuboid:\n",
    "    def __init__(self,l,b,h):\n",
    "        self.l=l\n",
    "        self.b=b\n",
    "        self.h=h\n",
    "    def vol(self):\n",
    "        return self.l*self.b*self.h\n",
    "    def tsa(self):\n",
    "        return 2*(self.l*self.b+self.b*self.h+self.h*self.l)\n",
    "    def lsa(s):\n",
    "        return 2*s.h*(s.l+s.b)\n",
    "cu1=cuboid(2,4,5)\n",
    "print(cu1.vol())\n",
    "print(cu1.tsa())\n",
    "print(cuboid.lsa(cu1))"
   ]
  },
  {
   "cell_type": "code",
   "execution_count": null,
   "metadata": {},
   "outputs": [],
   "source": []
  }
 ],
 "metadata": {
  "kernelspec": {
   "display_name": "Python 3",
   "language": "python",
   "name": "python3"
  },
  "language_info": {
   "codemirror_mode": {
    "name": "ipython",
    "version": 3
   },
   "file_extension": ".py",
   "mimetype": "text/x-python",
   "name": "python",
   "nbconvert_exporter": "python",
   "pygments_lexer": "ipython3",
   "version": "3.12.4"
  }
 },
 "nbformat": 4,
 "nbformat_minor": 2
}
