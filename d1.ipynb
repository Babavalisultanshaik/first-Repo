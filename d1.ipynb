{
 "cells": [
  {
   "cell_type": "code",
   "execution_count": 3,
   "metadata": {},
   "outputs": [
    {
     "name": "stdout",
     "output_type": "stream",
     "text": [
      "<class 'str'>\n"
     ]
    }
   ],
   "source": [
    "a = input()\n",
    "b = type(a)\n",
    "print(b)"
   ]
  },
  {
   "cell_type": "code",
   "execution_count": 2,
   "metadata": {},
   "outputs": [
    {
     "name": "stdout",
     "output_type": "stream",
     "text": [
      "<class 'int'>\n"
     ]
    }
   ],
   "source": [
    "a = int(input(\"enter the a value\"))\n",
    "b= type(a)\n",
    "print(b)"
   ]
  },
  {
   "cell_type": "markdown",
   "metadata": {},
   "source": [
    "match operator [in ,not in]"
   ]
  },
  {
   "cell_type": "code",
   "execution_count": 8,
   "metadata": {},
   "outputs": [
    {
     "name": "stdout",
     "output_type": "stream",
     "text": [
      "True\n"
     ]
    }
   ],
   "source": [
    "l1=[1,2,3,4,5]\n",
    "val = int(input())\n",
    "print(val in l1)"
   ]
  },
  {
   "cell_type": "markdown",
   "metadata": {},
   "source": [
    "identity operator [is,is not]"
   ]
  },
  {
   "cell_type": "code",
   "execution_count": 13,
   "metadata": {},
   "outputs": [
    {
     "name": "stdout",
     "output_type": "stream",
     "text": [
      "<class 'int'>\n",
      "140717462977240\n",
      "<class 'int'>\n",
      "140717462977240\n",
      "<class 'int'>\n",
      "140717462977880\n",
      "False\n",
      "True\n"
     ]
    }
   ],
   "source": [
    "a=10\n",
    "b=10\n",
    "c=30\n",
    "print(type(a))\n",
    "print(id(a))\n",
    "print(type(b))\n",
    "print(id(b))\n",
    "print(type(c))\n",
    "print(id(c))\n",
    "print(c is a)\n",
    "print(a is b)"
   ]
  },
  {
   "cell_type": "markdown",
   "metadata": {},
   "source": [
    "string formatting"
   ]
  },
  {
   "cell_type": "code",
   "execution_count": 38,
   "metadata": {},
   "outputs": [
    {
     "name": "stdout",
     "output_type": "stream",
     "text": [
      "a value is 10 b value is 20\n",
      "a value is 10 b valie is 20\n",
      "a value is 10 b value is 20\n",
      "a value is 10 b value is 20\n",
      "a value is 10 b value is 20\n",
      "a value is 10.000000 b value is 20.000000\n",
      "24.34542675834426\n",
      "24.345427\n",
      "24.35\n",
      "24\n",
      "A\n",
      "e:4\n",
      "e:04\n",
      "e:004\n"
     ]
    }
   ],
   "source": [
    "a=10\n",
    "b=20\n",
    "print(\"a value is\",a,\"b value is\",b)\n",
    "print(\"a value is {} b valie is {}\".format(a,b))\n",
    "print(f\"a value is {a} b value is {b}\")\n",
    "print(\"a value is %s b value is %s\"%(a,b))\n",
    "print(\"a value is %d b value is %d\"%(a,b))\n",
    "print(\"a value is %f b value is %f\"%(a,b))\n",
    "c=24.34542675834426\n",
    "print(c)\n",
    "print(\"%f\"%c)\n",
    "print(\"%.2f\"%c)\n",
    "print(\"%.0f\"%c)\n",
    "d=65\n",
    "print(\"%c\"%d)\n",
    "e=4\n",
    "print(f\"e:{e:01d}\")\n",
    "print(f\"e:{e:02d}\")\n",
    "print(f\"e:{e:03d}\")\n"
   ]
  },
  {
   "cell_type": "code",
   "execution_count": 6,
   "metadata": {},
   "outputs": [
    {
     "name": "stdout",
     "output_type": "stream",
     "text": [
      "False\n",
      "True\n",
      "False\n",
      "True\n",
      "False\n"
     ]
    }
   ],
   "source": [
    "a=10\n",
    "b=20\n",
    "c=10\n",
    "d=10\n",
    "print(a==b and a==c)\n",
    "print(a==d and a==c)\n",
    "print(a==c and b==c)\n",
    "print(a==b or c==d)\n",
    "print(not a==c)"
   ]
  },
  {
   "cell_type": "code",
   "execution_count": null,
   "metadata": {},
   "outputs": [],
   "source": []
  }
 ],
 "metadata": {
  "kernelspec": {
   "display_name": "Python 3",
   "language": "python",
   "name": "python3"
  },
  "language_info": {
   "codemirror_mode": {
    "name": "ipython",
    "version": 3
   },
   "file_extension": ".py",
   "mimetype": "text/x-python",
   "name": "python",
   "nbconvert_exporter": "python",
   "pygments_lexer": "ipython3",
   "version": "3.12.4"
  }
 },
 "nbformat": 4,
 "nbformat_minor": 2
}
